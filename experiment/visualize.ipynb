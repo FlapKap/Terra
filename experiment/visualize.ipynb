{
 "cells": [
  {
   "cell_type": "code",
   "execution_count": 1,
   "metadata": {},
   "outputs": [
    {
     "name": "stdout",
     "output_type": "stream",
     "text": [
      "Note: you may need to restart the kernel to use updated packages.\n"
     ]
    }
   ],
   "source": [
    "%pip install --quiet jupysql ipywidgets ipympl duckdb duckdb-engine pandas matplotlib jupyterlab"
   ]
  },
  {
   "cell_type": "code",
   "execution_count": 2,
   "metadata": {},
   "outputs": [],
   "source": [
    "import duckdb\n",
    "import pandas as pd\n",
    "import ipywidgets as widgets\n",
    "%load_ext sql\n",
    "%matplotlib widget"
   ]
  },
  {
   "cell_type": "code",
   "execution_count": 3,
   "metadata": {},
   "outputs": [],
   "source": [
    "%config SqlMagic.autopandas = True\n",
    "%config SqlMagic.displaycon = False"
   ]
  },
  {
   "cell_type": "code",
   "execution_count": 4,
   "metadata": {},
   "outputs": [
    {
     "data": {
      "text/html": [
       "<span style=\"None\">Connecting to &#x27;duckdb:///./380272.duckdb&#x27;</span>"
      ],
      "text/plain": [
       "Connecting to 'duckdb:///./380272.duckdb'"
      ]
     },
     "metadata": {},
     "output_type": "display_data"
    }
   ],
   "source": [
    "%sql duckdb:///./380272.duckdb"
   ]
  },
  {
   "cell_type": "code",
   "execution_count": 5,
   "metadata": {},
   "outputs": [
    {
     "data": {
      "text/html": [
       "<table>\n",
       "    <thead>\n",
       "        <tr>\n",
       "            <th>Name</th>\n",
       "        </tr>\n",
       "    </thead>\n",
       "    <tbody>\n",
       "        <tr>\n",
       "            <td>Gateway</td>\n",
       "        </tr>\n",
       "        <tr>\n",
       "            <td>Site</td>\n",
       "        </tr>\n",
       "        <tr>\n",
       "            <td>Node</td>\n",
       "        </tr>\n",
       "        <tr>\n",
       "            <td>Message</td>\n",
       "        </tr>\n",
       "        <tr>\n",
       "            <td>Trace</td>\n",
       "        </tr>\n",
       "        <tr>\n",
       "            <td>Radio</td>\n",
       "        </tr>\n",
       "        <tr>\n",
       "            <td>Power_Consumption</td>\n",
       "        </tr>\n",
       "        <tr>\n",
       "            <td>Downlink_Event_Error_Message</td>\n",
       "        </tr>\n",
       "        <tr>\n",
       "            <td>Join_Message</td>\n",
       "        </tr>\n",
       "        <tr>\n",
       "            <td>Content_Message</td>\n",
       "        </tr>\n",
       "        <tr>\n",
       "            <td>Downlink_Event_Message</td>\n",
       "        </tr>\n",
       "        <tr>\n",
       "            <td>Uplink_Message</td>\n",
       "        </tr>\n",
       "    </tbody>\n",
       "</table>"
      ],
      "text/plain": [
       "+------------------------------+\n",
       "|             Name             |\n",
       "+------------------------------+\n",
       "|           Gateway            |\n",
       "|             Site             |\n",
       "|             Node             |\n",
       "|           Message            |\n",
       "|            Trace             |\n",
       "|            Radio             |\n",
       "|      Power_Consumption       |\n",
       "| Downlink_Event_Error_Message |\n",
       "|         Join_Message         |\n",
       "|       Content_Message        |\n",
       "|    Downlink_Event_Message    |\n",
       "|        Uplink_Message        |\n",
       "+------------------------------+"
      ]
     },
     "execution_count": 5,
     "metadata": {},
     "output_type": "execute_result"
    }
   ],
   "source": [
    "%sqlcmd tables"
   ]
  },
  {
   "cell_type": "code",
   "execution_count": 7,
   "metadata": {},
   "outputs": [
    {
     "data": {
      "text/html": [
       "<div>\n",
       "<style scoped>\n",
       "    .dataframe tbody tr th:only-of-type {\n",
       "        vertical-align: middle;\n",
       "    }\n",
       "\n",
       "    .dataframe tbody tr th {\n",
       "        vertical-align: top;\n",
       "    }\n",
       "\n",
       "    .dataframe thead th {\n",
       "        text-align: right;\n",
       "    }\n",
       "</style>\n",
       "<table border=\"1\" class=\"dataframe\">\n",
       "  <thead>\n",
       "    <tr style=\"text-align: right;\">\n",
       "      <th></th>\n",
       "      <th>node_deveui</th>\n",
       "      <th>node_appeui</th>\n",
       "      <th>node_appkey</th>\n",
       "      <th>board_id</th>\n",
       "      <th>radio_chipset</th>\n",
       "      <th>node_site</th>\n",
       "      <th>profile</th>\n",
       "      <th>riot_board</th>\n",
       "    </tr>\n",
       "  </thead>\n",
       "  <tbody>\n",
       "    <tr>\n",
       "      <th>0</th>\n",
       "      <td>70B3D57ED005E88A</td>\n",
       "      <td>0000000000000000</td>\n",
       "      <td>385794DDE70CE2EAB5B5B12A4807822C</td>\n",
       "      <td>st-lrwan1</td>\n",
       "      <td>sx1276</td>\n",
       "      <td>saclay</td>\n",
       "      <td>stm32Profile</td>\n",
       "      <td>b-l072z-lrwan1</td>\n",
       "    </tr>\n",
       "    <tr>\n",
       "      <th>1</th>\n",
       "      <td>70B3D57ED005EA56</td>\n",
       "      <td>0000000000000000</td>\n",
       "      <td>385794DDE70CE2EAB5B5B12A4807822C</td>\n",
       "      <td>st-lrwan1</td>\n",
       "      <td>sx1276</td>\n",
       "      <td>saclay</td>\n",
       "      <td>stm32Profile</td>\n",
       "      <td>b-l072z-lrwan1</td>\n",
       "    </tr>\n",
       "    <tr>\n",
       "      <th>2</th>\n",
       "      <td>70B3D57ED005EA55</td>\n",
       "      <td>0000000000000000</td>\n",
       "      <td>385794DDE70CE2EAB5B5B12A4807822C</td>\n",
       "      <td>st-lrwan1</td>\n",
       "      <td>sx1276</td>\n",
       "      <td>saclay</td>\n",
       "      <td>stm32Profile</td>\n",
       "      <td>b-l072z-lrwan1</td>\n",
       "    </tr>\n",
       "    <tr>\n",
       "      <th>3</th>\n",
       "      <td>70B3D57ED005EA57</td>\n",
       "      <td>0000000000000000</td>\n",
       "      <td>385794DDE70CE2EAB5B5B12A4807822C</td>\n",
       "      <td>st-lrwan1</td>\n",
       "      <td>sx1276</td>\n",
       "      <td>saclay</td>\n",
       "      <td>stm32Profile</td>\n",
       "      <td>b-l072z-lrwan1</td>\n",
       "    </tr>\n",
       "    <tr>\n",
       "      <th>4</th>\n",
       "      <td>70B3D57ED005EA59</td>\n",
       "      <td>0000000000000000</td>\n",
       "      <td>385794DDE70CE2EAB5B5B12A4807822C</td>\n",
       "      <td>st-lrwan1</td>\n",
       "      <td>sx1276</td>\n",
       "      <td>saclay</td>\n",
       "      <td>stm32Profile</td>\n",
       "      <td>b-l072z-lrwan1</td>\n",
       "    </tr>\n",
       "  </tbody>\n",
       "</table>\n",
       "</div>"
      ],
      "text/plain": [
       "        node_deveui       node_appeui                       node_appkey  \\\n",
       "0  70B3D57ED005E88A  0000000000000000  385794DDE70CE2EAB5B5B12A4807822C   \n",
       "1  70B3D57ED005EA56  0000000000000000  385794DDE70CE2EAB5B5B12A4807822C   \n",
       "2  70B3D57ED005EA55  0000000000000000  385794DDE70CE2EAB5B5B12A4807822C   \n",
       "3  70B3D57ED005EA57  0000000000000000  385794DDE70CE2EAB5B5B12A4807822C   \n",
       "4  70B3D57ED005EA59  0000000000000000  385794DDE70CE2EAB5B5B12A4807822C   \n",
       "\n",
       "    board_id radio_chipset node_site       profile      riot_board  \n",
       "0  st-lrwan1        sx1276    saclay  stm32Profile  b-l072z-lrwan1  \n",
       "1  st-lrwan1        sx1276    saclay  stm32Profile  b-l072z-lrwan1  \n",
       "2  st-lrwan1        sx1276    saclay  stm32Profile  b-l072z-lrwan1  \n",
       "3  st-lrwan1        sx1276    saclay  stm32Profile  b-l072z-lrwan1  \n",
       "4  st-lrwan1        sx1276    saclay  stm32Profile  b-l072z-lrwan1  "
      ]
     },
     "execution_count": 7,
     "metadata": {},
     "output_type": "execute_result"
    }
   ],
   "source": [
    "%sql nodes =<< select distinct * from Node"
   ]
  },
  {
   "cell_type": "code",
   "execution_count": 14,
   "metadata": {},
   "outputs": [],
   "source": [
    "\n",
    "timestamps=%sql select timestamp from Power_Consumption \n",
    "timestamps = timestamps[\"timestamp\"].map(lambda x: x.isoformat())"
   ]
  },
  {
   "cell_type": "code",
   "execution_count": 26,
   "metadata": {},
   "outputs": [
    {
     "data": {
      "text/plain": [
       "<Axes: xlabel='timestamp'>"
      ]
     },
     "execution_count": 26,
     "metadata": {},
     "output_type": "execute_result"
    },
    {
     "data": {
      "application/vnd.jupyter.widget-view+json": {
       "model_id": "762338301fd144ec95adf1daa2201f5a",
       "version_major": 2,
       "version_minor": 0
      },
      "image/png": "[encoded data removed]",
      "text/html": [
       "\n",
       "            <div style=\"display: inline-block;\">\n",
       "                <div class=\"jupyter-widgets widget-label\" style=\"text-align: center;\">\n",
       "                    Figure\n",
       "                </div>\n",
       "                <img src='data:image/png;base64,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' width=640.0/>\n",
       "            </div>\n",
       "        "
      ],
      "text/plain": [
       "Canvas(toolbar=Toolbar(toolitems=[('Home', 'Reset original view', 'home', 'home'), ('Back', 'Back to previous …"
      ]
     },
     "metadata": {},
     "output_type": "display_data"
    }
   ],
   "source": [
    "deveui = \"70B3D57ED005EA56\"\n",
    "power= %sql select timestamp,power from Power_Consumption where node_id LIKE '{{deveui}}'\n",
    "#plot voltages with timestamps as x axis. timestamps need to show milliseconds\n",
    "power.plot(x=\"timestamp\", y=\"power\")"
   ]
  },
  {
   "cell_type": "code",
   "execution_count": 16,
   "metadata": {},
   "outputs": [
    {
     "ename": "AttributeError",
     "evalue": "'NoneType' object has no attribute 'plot'",
     "output_type": "error",
     "traceback": [
      "\u001b[0;31m---------------------------------------------------------------------------\u001b[0m",
      "\u001b[0;31mAttributeError\u001b[0m                            Traceback (most recent call last)",
      "\u001b[1;32m/home/kasper/nebulastream-ed-runtime-C/experiment/visualize.ipynb Cell 9\u001b[0m line \u001b[0;36m1\n\u001b[0;32m----> <a href='vscode-notebook-cell://ssh-remote%2Bnebulastream.itu.dk/home/kasper/nebulastream-ed-runtime-C/experiment/visualize.ipynb#X20sdnNjb2RlLXJlbW90ZQ%3D%3D?line=0'>1</a>\u001b[0m voltages\u001b[39m.\u001b[39;49mplot()\n",
      "\u001b[0;31mAttributeError\u001b[0m: 'NoneType' object has no attribute 'plot'"
     ]
    }
   ],
   "source": [
    "voltages.plot()"
   ]
  },
  {
   "cell_type": "code",
   "execution_count": 12,
   "metadata": {},
   "outputs": [
    {
     "data": {
      "text/html": [
       "<span style=\"None\">Interactive mode, please interact with below widget(s) to control the variable</span>"
      ],
      "text/plain": [
       "Interactive mode, please interact with below widget(s) to control the variable"
      ]
     },
     "metadata": {},
     "output_type": "display_data"
    },
    {
     "data": {
      "application/vnd.jupyter.widget-view+json": {
       "model_id": "1beaef4a907144ecbd59352eafbb0689",
       "version_major": 2,
       "version_minor": 0
      },
      "text/plain": [
       "interactive(children=(Text(value='70B3D57ED005EA55', description='deveuis'), SelectionSlider(description='lowe…"
      ]
     },
     "metadata": {},
     "output_type": "display_data"
    }
   ],
   "source": [
    "lower=widgets.SelectionSlider(options=timestamps, value=timestamps.min())\n",
    "upper=widgets.SelectionSlider(options=timestamps, value=timestamps.max())\n",
    "%sql --save hej --interact deveuis --interact lower --interact upper SELECT * from Power_Consumption where node_id LIKE '{{deveuis}}' AND timestamp BETWEEN '{{lower}}' AND '{{upper}}'"
   ]
  }
 ],
 "metadata": {
  "kernelspec": {
   "display_name": "Python 3",
   "language": "python",
   "name": "python3"
  },
  "language_info": {
   "codemirror_mode": {
    "name": "ipython",
    "version": 3
   },
   "file_extension": ".py",
   "mimetype": "text/x-python",
   "name": "python",
   "nbconvert_exporter": "python",
   "pygments_lexer": "ipython3",
   "version": "3.10.12"
  },
  "orig_nbformat": 4
 },
 "nbformat": 4,
 "nbformat_minor": 2
}
